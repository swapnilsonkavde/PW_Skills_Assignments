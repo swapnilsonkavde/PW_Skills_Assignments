{
 "cells": [
  {
   "cell_type": "code",
   "execution_count": 17,
   "id": "36560c30-e297-4a10-a44d-f52504fac1d8",
   "metadata": {},
   "outputs": [
    {
     "data": {
      "text/plain": [
       "'This is TOYOTA car'"
      ]
     },
     "execution_count": 17,
     "metadata": {},
     "output_type": "execute_result"
    }
   ],
   "source": [
    "## Q1. What is Abstraction in OOps? Explain with an example.\n",
    "''' \n",
    "Abstraction is  representation of complex real-world entities in a simplified manner by capturing their essential characteristics. \n",
    "''' \n",
    "\n",
    "# for example \n",
    "\n",
    "import abc\n",
    "class master_car_data: \n",
    "    \n",
    "    @abc.abstractmethod\n",
    "    def car_model(self):\n",
    "        pass \n",
    "    \n",
    "    @abc.abstractmethod\n",
    "    def car_maker(self):\n",
    "        pass \n",
    "    \n",
    "    @abc.abstractmethod\n",
    "    def car_type(self):\n",
    "        pass \n",
    "    \n",
    "class car_data_1(master_car_data): \n",
    "    \n",
    "    def car_model(self): \n",
    "        return \"This is Innova\"\n",
    "    def car_type(self): \n",
    "        return \"This car is MPV\" \n",
    "    \n",
    "class car_data_2(master_car_data):\n",
    "    \n",
    "    def car_maker(self):\n",
    "        return \"This car is MPV\" \n",
    "    def car_maker(self): \n",
    "        return \"This is TOYOTA car\" \n",
    "\n",
    "innova_1 = car_data_2()\n",
    "innova_1.car_maker()\n",
    "\n"
   ]
  },
  {
   "cell_type": "code",
   "execution_count": 21,
   "id": "223e4174-e0b9-4bdd-b717-8fc020c7a0ed",
   "metadata": {},
   "outputs": [],
   "source": [
    "## 2. Differentiate between Abstraction and Encapsulation. Explain with an example.\n",
    "'''\n",
    "Abstraction focuses on simplifying complex entities by capturing their essential characteristics and hiding unnecessary details.\n",
    "whereas Encapsulation involves bundling data and methods together within a class and providing access to them through controlled interfaces.\n",
    "''' \n",
    "## for example of absraction in question 1 answer we can see the complex entities by capturing their essential characteristics\n",
    "## example of Encapsulation by providing access to them through controlled interfaces.\n",
    "\n",
    "class vehicle_para:\n",
    "    def __init__(self, name_of_vehicle, max_speed, average_of_vehicle):\n",
    "        self.__name_of_vehicle = name_of_vehicle \n",
    "        self.__max_speed = max_speed \n",
    "        self.__average_of_vehicle = average_of_vehicle\n",
    "    \n",
    "    def return_vehicle_para(self):\n",
    "        return self.name_of_vehicle,self.max_speed,self.average_of_vehicle   \n"
   ]
  },
  {
   "cell_type": "code",
   "execution_count": null,
   "id": "b6e37878-5eff-4b74-99d3-9906bcda6cd5",
   "metadata": {},
   "outputs": [],
   "source": [
    "## Q3. What is abc module in python? Why is it used?\n",
    "'''\n",
    "Abstract base classes are classes that cannot be instantiated directly but are designed to serve as base classes for other classes.\n",
    "They define a common interface or set of methods that subclasses are expected to implement.\n",
    "They are used for defining abstract base classes\n",
    "'''"
   ]
  },
  {
   "cell_type": "code",
   "execution_count": 22,
   "id": "566ea527-fc51-4ab0-80c5-40cac058dcad",
   "metadata": {},
   "outputs": [
    {
     "name": "stdout",
     "output_type": "stream",
     "text": [
      "123456789\n",
      "1000\n"
     ]
    }
   ],
   "source": [
    "## Q4. How can we achieve data abstraction?\n",
    "\n",
    "class BankAccount:\n",
    "    def __init__(self):\n",
    "        self._account_number = \"\"\n",
    "        self._balance = 0\n",
    "\n",
    "    def get_account_number(self):\n",
    "        return self._account_number\n",
    "\n",
    "    def set_account_number(self, account_number):\n",
    "        self._account_number = account_number\n",
    "\n",
    "    def get_balance(self):\n",
    "        return self._balance\n",
    "\n",
    "    def deposit(self, amount):\n",
    "        self._balance += amount\n",
    "\n",
    "    def withdraw(self, amount):\n",
    "        if amount <= self._balance:\n",
    "            self._balance -= amount\n",
    "        else:\n",
    "            print(\"Insufficient balance.\")\n",
    "\n",
    "\n",
    "account = BankAccount()\n",
    "\n",
    "account.set_account_number(\"123456789\")\n",
    "print(account.get_account_number()) \n",
    "\n",
    "account.deposit(1000)\n",
    "print(account.get_balance())"
   ]
  },
  {
   "cell_type": "code",
   "execution_count": 23,
   "id": "9b2500b0-b8de-412a-abe6-0763cb8bc2c0",
   "metadata": {},
   "outputs": [
    {
     "ename": "NameError",
     "evalue": "name 'abstractmethod' is not defined",
     "output_type": "error",
     "traceback": [
      "\u001b[0;31m---------------------------------------------------------------------------\u001b[0m",
      "\u001b[0;31mNameError\u001b[0m                                 Traceback (most recent call last)",
      "Cell \u001b[0;32mIn[23], line 10\u001b[0m\n\u001b[1;32m      2\u001b[0m \u001b[38;5;124;03m'''\u001b[39;00m\n\u001b[1;32m      3\u001b[0m \u001b[38;5;124;03mNo, we cannot create an instance of an abstract class in Python. \u001b[39;00m\n\u001b[1;32m      4\u001b[0m \u001b[38;5;124;03mAn abstract class is a class that is meant to be used only as a base class for other classes and cannot be instantiated directly.\u001b[39;00m\n\u001b[1;32m      5\u001b[0m \n\u001b[1;32m      6\u001b[0m \u001b[38;5;124;03mHere's an example to illustrate the inability to create an instance of an abstract class:\u001b[39;00m\n\u001b[1;32m      7\u001b[0m \u001b[38;5;124;03m'''\u001b[39;00m\n\u001b[1;32m      9\u001b[0m \u001b[38;5;28;01mfrom\u001b[39;00m \u001b[38;5;21;01mabc\u001b[39;00m \u001b[38;5;28;01mimport\u001b[39;00m ABC\n\u001b[0;32m---> 10\u001b[0m \u001b[43mabstractmethod\u001b[49m\n\u001b[1;32m     12\u001b[0m \u001b[38;5;28;01mclass\u001b[39;00m \u001b[38;5;21;01mAbstractClass\u001b[39;00m(ABC):\n\u001b[1;32m     13\u001b[0m     \u001b[38;5;129m@abstractmethod\u001b[39m\n\u001b[1;32m     14\u001b[0m     \u001b[38;5;28;01mdef\u001b[39;00m \u001b[38;5;21mabstract_method\u001b[39m(\u001b[38;5;28mself\u001b[39m):\n",
      "\u001b[0;31mNameError\u001b[0m: name 'abstractmethod' is not defined"
     ]
    }
   ],
   "source": [
    "## Q5. Can we create an instance of an abstract class? Explain your answer\n",
    "'''\n",
    "No, we cannot create an instance of an abstract class in Python. \n",
    "An abstract class is a class that is meant to be used only as a base class for other classes and cannot be instantiated directly.\n",
    "\n",
    "Here's an example to illustrate the inability to create an instance of an abstract class:\n",
    "'''\n",
    "\n",
    "from abc import ABC\n",
    "abstractmethod\n",
    "\n",
    "class AbstractClass(ABC):\n",
    "    @abstractmethod\n",
    "    def abstract_method(self):\n",
    "        pass\n",
    "\n",
    "instance = AbstractClass()"
   ]
  },
  {
   "cell_type": "code",
   "execution_count": null,
   "id": "865d6809-61cb-4c8a-ac8b-90bf66d2957f",
   "metadata": {},
   "outputs": [],
   "source": []
  }
 ],
 "metadata": {
  "kernelspec": {
   "display_name": "Python 3 (ipykernel)",
   "language": "python",
   "name": "python3"
  },
  "language_info": {
   "codemirror_mode": {
    "name": "ipython",
    "version": 3
   },
   "file_extension": ".py",
   "mimetype": "text/x-python",
   "name": "python",
   "nbconvert_exporter": "python",
   "pygments_lexer": "ipython3",
   "version": "3.10.8"
  }
 },
 "nbformat": 4,
 "nbformat_minor": 5
}
