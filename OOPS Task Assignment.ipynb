{
 "cells": [
  {
   "cell_type": "code",
   "execution_count": 10,
   "id": "816e90a8-0788-47f5-8b88-443e7f70a09a",
   "metadata": {},
   "outputs": [
    {
     "data": {
      "text/plain": [
       "('Avendedor', 300, 5)"
      ]
     },
     "execution_count": 10,
     "metadata": {},
     "output_type": "execute_result"
    }
   ],
   "source": [
    "## Q1, Create a vehicle class with an init method having instance variables as name_of_vehicle, max_speed and average_of_vehicle.\n",
    "\n",
    "class vehicle_para:\n",
    "    \n",
    "    def __init__(self, name_of_vehicle, max_speed, average_of_vehicle):\n",
    "        self.name_of_vehicle = name_of_vehicle \n",
    "        self.max_speed = max_speed \n",
    "        self.average_of_vehicle = average_of_vehicle\n",
    "    \n",
    "    def return_vehicle_para(self):\n",
    "        return self.name_of_vehicle,self.max_speed,self.average_of_vehicle    \n",
    "    \n",
    "Lambourgini = vehicle_para(\"Avendedor\", 300, 5)\n",
    "\n",
    "Lambourgini.return_vehicle_para()"
   ]
  },
  {
   "cell_type": "code",
   "execution_count": 36,
   "id": "528d256d-b7b9-455d-b190-2be04107f89b",
   "metadata": {},
   "outputs": [
    {
     "data": {
      "text/plain": [
       "('Aston Martin', 2)"
      ]
     },
     "execution_count": 36,
     "metadata": {},
     "output_type": "execute_result"
    }
   ],
   "source": [
    "## Q2. Create a child class car from the vehicle class created in Que 1, which will inherit the vehicle class. Create a method named seating_capacity which takes capacity as an argument and returns the name of the vehicle and its seating capacity.\n",
    "\n",
    "class car:\n",
    "    \n",
    "    def __init__(self, vehicle, capacity):\n",
    "        self.vehicle = vehicle\n",
    "        self.capacity = capacity \n",
    "        \n",
    "    def return_car(self):\n",
    "        return self.vehicle, self.capacity\n",
    "    \n",
    "aston = car(\"Aston Martin\" , 2) \n",
    "aston.return_car()\n",
    "    "
   ]
  },
  {
   "cell_type": "code",
   "execution_count": 34,
   "id": "38f28347-39e4-4588-8b45-786760dffc14",
   "metadata": {},
   "outputs": [
    {
     "data": {
      "text/plain": [
       "'This is the method from Test 1'"
      ]
     },
     "execution_count": 34,
     "metadata": {},
     "output_type": "execute_result"
    }
   ],
   "source": [
    "## Q3. What is multiple inheritance? Write a python code to demonstrate multiple inheritance.\n",
    "'''\n",
    "Multiple inheritance is a feature in object-oriented programming languages that allows a class to inherit attributes and methods from multiple parent classes. \n",
    "It allows a subclass to inherit characteristics from more than one superclass.'''\n",
    "\n",
    "## for example \n",
    "\n",
    "class test_1: \n",
    "    def test_1(self):\n",
    "        return \"This is the method from Test 1\" \n",
    "    \n",
    "class test_2(test_1):\n",
    "    def test_2(self):\n",
    "        return \"This is the menthod from test 2\" \n",
    "    \n",
    "class test_3(test_2): \n",
    "    pass \n",
    "\n",
    "obj_test_3  = test_3()\n",
    "\n",
    "obj_test_3.test_1()\n",
    "    "
   ]
  },
  {
   "cell_type": "code",
   "execution_count": 27,
   "id": "91625310-ae4c-40d8-b042-1b81ae365409",
   "metadata": {},
   "outputs": [],
   "source": [
    "## Q4. What are getter and setter in python? Create a class and create a getter and a setter method in this class.\n",
    "\n",
    "''' etter and setter methods are used to control the access and modification of class attributes or properties. \n",
    "They provide a way to retrieve and set the values of private or protected attributes, encapsulating them within the class. \n",
    "This encapsulation helps maintain data integrity and provides a layer of abstraction.\n",
    "\n",
    "Here's an example of a class with a getter and a setter method in Python:'''\n",
    "\n",
    "class MyClass:\n",
    "    def __init__(self):\n",
    "        self._my_attribute = None  # Private attribute with an underscore prefix\n",
    "\n",
    "    def get_my_attribute(self):\n",
    "        return self._my_attribute\n",
    "\n",
    "    def set_my_attribute(self, value):\n",
    "        self._my_attribute = value\n",
    "        \n",
    "obj = MyClass()\n",
    "obj.set_my_attribute(\"hi\")\n"
   ]
  },
  {
   "cell_type": "code",
   "execution_count": 37,
   "id": "bb0a1b35-636d-4210-b703-22afdfae3333",
   "metadata": {},
   "outputs": [
    {
     "name": "stdout",
     "output_type": "stream",
     "text": [
      "Animal makes a sound.\n",
      "Dog barks.\n",
      "Cat meows.\n"
     ]
    }
   ],
   "source": [
    "## Q5.What is method overriding in python? Write a python code to demonstrate method overriding.\n",
    "''' Method overriding is a concept in object-oriented programming where a subclass provides its own implementation of a method that is already defined in its superclass. \n",
    "By overriding a method, the subclass can customize the behavior of the method while still retaining the same name and signature. '''\n",
    "\n",
    "class Animal:\n",
    "    def make_sound(self):\n",
    "        print(\"Animal makes a sound.\")\n",
    "\n",
    "\n",
    "class Dog(Animal):\n",
    "    def make_sound(self):\n",
    "        print(\"Dog barks.\")\n",
    "\n",
    "\n",
    "class Cat(Animal):\n",
    "    def make_sound(self):\n",
    "        print(\"Cat meows.\")\n",
    "\n",
    "\n",
    "animal = Animal()\n",
    "animal.make_sound() \n",
    "\n",
    "dog = Dog()\n",
    "dog.make_sound()    \n",
    "\n",
    "cat = Cat()\n",
    "cat.make_sound()  \n",
    "\n"
   ]
  },
  {
   "cell_type": "code",
   "execution_count": null,
   "id": "7df940ba-5025-4f7d-9fe9-cda7c9888fb4",
   "metadata": {},
   "outputs": [],
   "source": []
  }
 ],
 "metadata": {
  "kernelspec": {
   "display_name": "Python 3 (ipykernel)",
   "language": "python",
   "name": "python3"
  },
  "language_info": {
   "codemirror_mode": {
    "name": "ipython",
    "version": 3
   },
   "file_extension": ".py",
   "mimetype": "text/x-python",
   "name": "python",
   "nbconvert_exporter": "python",
   "pygments_lexer": "ipython3",
   "version": "3.10.8"
  }
 },
 "nbformat": 4,
 "nbformat_minor": 5
}
