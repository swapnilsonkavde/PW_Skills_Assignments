{
 "cells": [
  {
   "cell_type": "code",
   "execution_count": 8,
   "id": "8e1b3fd6-5935-4f31-8c82-208d22c220cb",
   "metadata": {},
   "outputs": [
    {
     "name": "stdout",
     "output_type": "stream",
     "text": [
      "a = <class 'int'> b = <class 'list'> c = <class 'float'> d = <class 'tuple'>\n"
     ]
    }
   ],
   "source": [
    "## Taske 1 \n",
    "## Create one variable containing type of data \n",
    "a = 12\n",
    "b = [1,2,3,4,\"Swapnil\", 12.3425,2+4j]\n",
    "c = 36.2376587\n",
    "d = (1,4,5,8,13,56)\n",
    "\n",
    "print(\"a =\", type(a),\n",
    "      \"b =\", type(b),\n",
    "      \"c =\", type(c),\n",
    "      \"d =\", type(d))"
   ]
  },
  {
   "cell_type": "code",
   "execution_count": 16,
   "id": "8fdb60bc-7d22-42e4-8d12-3b9d506daa4b",
   "metadata": {
    "tags": []
   },
   "outputs": [],
   "source": [
    "## Task 2 \n",
    "## Q2. Given are some following variables containing data:\n",
    "## (i) var1 = ‘ ‘  -> string \n",
    "## (ii) var2 = ‘[ DS , ML , Python]’ -> String\n",
    "## (iii) var3 = [ ‘DS’ , ’ML’ , ‘Python’ ] = Invalid syntax \n",
    "## (iv) var4 = 1  -> Integer \n"
   ]
  },
  {
   "cell_type": "code",
   "execution_count": 29,
   "id": "d63ec32a-90cc-4eab-8c2e-e341b01bc9cd",
   "metadata": {},
   "outputs": [
    {
     "name": "stdout",
     "output_type": "stream",
     "text": [
      "6.5 1 4 39304\n"
     ]
    }
   ],
   "source": [
    "## Task 3 (Q3. Explain the use of the following operators using an example:)\n",
    "## (i) / , (ii) %, (iii) //, (iv) **\n",
    "\n",
    "a = 13/2\n",
    "b = 45%4\n",
    "c = 40//9\n",
    "d = 34**3\n",
    "\n",
    "print(a,b,c,d)\n",
    "\n",
    "## / -> Divison and provide the float number \n",
    "## % -> Division and provid the remainder \n",
    "## // -> divison and provide the int form of divisor \n",
    "## ** -> Exponentiation operation \n"
   ]
  },
  {
   "cell_type": "code",
   "execution_count": 31,
   "id": "01ffa759-1647-4fb1-9dac-9a568a9c0c86",
   "metadata": {},
   "outputs": [
    {
     "name": "stdout",
     "output_type": "stream",
     "text": [
      "1 <class 'int'>\n",
      "2 <class 'int'>\n",
      "3 <class 'int'>\n",
      "4 <class 'int'>\n",
      "Swapnil <class 'str'>\n",
      "12.3425 <class 'float'>\n",
      "(2+4j) <class 'complex'>\n",
      "True <class 'bool'>\n",
      "[1, 2, 3] <class 'list'>\n",
      "('1', 'Swa') <class 'tuple'>\n"
     ]
    }
   ],
   "source": [
    "## Q4) Create a list of length 10 of your choice containing multiple types of data. Using for loop print the element and its data type.\n",
    "list_1 = [1,2,3,4,\"Swapnil\", 12.3425,2+4j, True, [1,2,3], (\"1\",\"Swa\")]\n",
    "\n",
    "for i in list_1:\n",
    "    print(i , type(i))"
   ]
  },
  {
   "cell_type": "code",
   "execution_count": 36,
   "id": "dac243e5-0736-4b5c-9d63-e37fd7b1bb14",
   "metadata": {
    "tags": []
   },
   "outputs": [
    {
     "name": "stdout",
     "output_type": "stream",
     "text": [
      "A is purely divisible by B.\n",
      "A can be divided by B 1 times.\n"
     ]
    }
   ],
   "source": [
    "## Q5. Using a while loop, verify if the number A is purely divisible by number B and if so then how many times it can be divisible.\n",
    "\n",
    "A = 155\n",
    "B = 5\n",
    "count = 0\n",
    "\n",
    "while A % B == 0:\n",
    "    A = A / B\n",
    "    count += 1\n",
    "\n",
    "if count > 0:\n",
    "    print(\"A is purely divisible by B.\")\n",
    "    print(\"A can be divided by B\", count, \"times.\")\n",
    "else:\n",
    "    print(\"A is not purely divisible by B.\")"
   ]
  },
  {
   "cell_type": "code",
   "execution_count": 53,
   "id": "1b4889b2-7590-4bdb-9544-7f797106d0bc",
   "metadata": {
    "tags": []
   },
   "outputs": [
    {
     "name": "stdout",
     "output_type": "stream",
     "text": [
      "90 Yes It is divisible by 3\n",
      "2 No it is not divisible\n",
      "26 No it is not divisible\n",
      "48 Yes It is divisible by 3\n",
      "78 Yes It is divisible by 3\n",
      "58 No it is not divisible\n",
      "58 No it is not divisible\n",
      "89 No it is not divisible\n",
      "66 Yes It is divisible by 3\n",
      "52 No it is not divisible\n",
      "18 Yes It is divisible by 3\n",
      "26 No it is not divisible\n",
      "93 Yes It is divisible by 3\n",
      "3 Yes It is divisible by 3\n",
      "30 Yes It is divisible by 3\n",
      "84 Yes It is divisible by 3\n",
      "85 No it is not divisible\n",
      "38 No it is not divisible\n",
      "55 No it is not divisible\n",
      "16 No it is not divisible\n",
      "94 No it is not divisible\n",
      "96 Yes It is divisible by 3\n",
      "60 Yes It is divisible by 3\n",
      "87 Yes It is divisible by 3\n",
      "88 No it is not divisible\n"
     ]
    }
   ],
   "source": [
    "##Create a list containing 25 int type data. Using for loop and if-else condition print if the element is divisible by 3 or not.\n",
    "\n",
    "L_1 = [90, 2, 26, 48, 78, 58, 58, 89, 66, 52, 18, 26, 93, 3, 30, 84, 85, 38, 55, 16, 94, 96, 60, 87, 88]\n",
    "\n",
    "for i in L_1:\n",
    "    if i%3 == 0:\n",
    "        print(i, \"Yes It is divisible by 3\")\n",
    "    else:\n",
    "        print(i, \"No it is not divisible\")"
   ]
  },
  {
   "cell_type": "code",
   "execution_count": 13,
   "id": "c61e8ff9-1727-4137-be23-0b1ae1bdbfab",
   "metadata": {},
   "outputs": [
    {
     "name": "stdout",
     "output_type": "stream",
     "text": [
      "45\n"
     ]
    },
    {
     "ename": "TypeError",
     "evalue": "'tuple' object does not support item assignment",
     "output_type": "error",
     "traceback": [
      "\u001b[0;31m---------------------------------------------------------------------------\u001b[0m",
      "\u001b[0;31mTypeError\u001b[0m                                 Traceback (most recent call last)",
      "Cell \u001b[0;32mIn[13], line 16\u001b[0m\n\u001b[1;32m     13\u001b[0m var2 \u001b[38;5;241m=\u001b[39m(\u001b[38;5;241m2\u001b[39m,\u001b[38;5;241m3\u001b[39m,\u001b[38;5;241m4\u001b[39m,\u001b[38;5;241m5\u001b[39m,\u001b[38;5;124m'\u001b[39m\u001b[38;5;124mswapnil\u001b[39m\u001b[38;5;124m'\u001b[39m, \u001b[38;5;241m23.455\u001b[39m)\n\u001b[1;32m     14\u001b[0m var2[\u001b[38;5;241m2\u001b[39m]\n\u001b[0;32m---> 16\u001b[0m \u001b[43mvar2\u001b[49m\u001b[43m[\u001b[49m\u001b[38;5;241;43m2\u001b[39;49m\u001b[43m]\u001b[49m \u001b[38;5;241m=\u001b[39m \u001b[38;5;241m45\u001b[39m\n",
      "\u001b[0;31mTypeError\u001b[0m: 'tuple' object does not support item assignment"
     ]
    }
   ],
   "source": [
    "## What do you understand about mutable and immutable data types? Give examples for both showing this property.\n",
    "\n",
    "## In Mutable data type as mentioned below the data set can be changeable \n",
    "\n",
    "var1 = [1,2,3,4]\n",
    "var1[0]\n",
    "\n",
    "var1[0] = 45\n",
    "print(var1[0])\n",
    "\n",
    "\n",
    "## but in inmutable data set this can not be done for example :: \n",
    "var2 =(2,3,4,5,'swapnil', 23.455)\n",
    "var2[2]\n",
    "\n",
    "var2[2] = 45\n",
    "\n",
    "## as we try to change the value of var2 data set the system will generate the error "
   ]
  }
 ],
 "metadata": {
  "kernelspec": {
   "display_name": "Python 3 (ipykernel)",
   "language": "python",
   "name": "python3"
  },
  "language_info": {
   "codemirror_mode": {
    "name": "ipython",
    "version": 3
   },
   "file_extension": ".py",
   "mimetype": "text/x-python",
   "name": "python",
   "nbconvert_exporter": "python",
   "pygments_lexer": "ipython3",
   "version": "3.10.8"
  }
 },
 "nbformat": 4,
 "nbformat_minor": 5
}
