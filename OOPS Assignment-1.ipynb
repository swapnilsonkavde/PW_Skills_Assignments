{
 "cells": [
  {
   "cell_type": "code",
   "execution_count": 22,
   "id": "74a7f750-5331-4707-9f1f-cbdcacd11d34",
   "metadata": {},
   "outputs": [
    {
     "data": {
      "text/plain": [
       "'Toyota'"
      ]
     },
     "execution_count": 22,
     "metadata": {},
     "output_type": "execute_result"
    }
   ],
   "source": [
    "##  Q1. Explain Class and Object with respect to Object-Oriented Programming. Give a suitable example.\n",
    "'''\n",
    "class -  defined as the common characteristics and behaviors that a group of objects will have. \n",
    "         It acts as a blueprint for creating objects, encapsulating data and functionality related to those objects.\n",
    "\n",
    "object - is an instance of a class. It is a concrete entity that exists in memory and can be manipulated using the defined methods and accessed through its attributes. \n",
    "         Objects are created from a class and represent specific instances of that class.\n",
    "'''\n",
    "\n",
    "class car:\n",
    "    def __init__(self, make, model):\n",
    "        self.make = make\n",
    "        self.model = model\n",
    "\n",
    "    @classmethod\n",
    "    def details(cls, make, model):\n",
    "        return cls(make, model) \n",
    "\n",
    "car_1 = car.details(\"Toyota\", \"Innova\") \n",
    "car_1.make\n"
   ]
  },
  {
   "cell_type": "code",
   "execution_count": null,
   "id": "84c9c712-6895-45d9-b9c5-6b7564fe546e",
   "metadata": {},
   "outputs": [],
   "source": [
    "## Q2. Name the four pillars of OOPs.\n",
    "'''\n",
    "1) Encapsulation\n",
    "2) Inheritance\n",
    "3) Polymorphism\n",
    "4) Abstraction\n",
    "'''"
   ]
  },
  {
   "cell_type": "code",
   "execution_count": 23,
   "id": "0e410e96-22e1-4fd3-9402-cf39b36fb69e",
   "metadata": {},
   "outputs": [
    {
     "data": {
      "text/plain": [
       "('Avendedor', 300, 5)"
      ]
     },
     "execution_count": 23,
     "metadata": {},
     "output_type": "execute_result"
    }
   ],
   "source": [
    "## Q3. Explain why the __init__() function is used. Give a suitable example.\n",
    "\n",
    "\n",
    "\n",
    "# for example \n",
    "class vehicle_para:\n",
    "    \n",
    "    def __init__(self, name_of_vehicle, max_speed, average_of_vehicle):\n",
    "        self.name_of_vehicle = name_of_vehicle \n",
    "        self.max_speed = max_speed \n",
    "        self.average_of_vehicle = average_of_vehicle\n",
    "    \n",
    "    def return_vehicle_para(self):\n",
    "        return self.name_of_vehicle,self.max_speed,self.average_of_vehicle    \n",
    "    \n",
    "Lambourgini = vehicle_para(\"Avendedor\", 300, 5)\n",
    "\n",
    "Lambourgini.return_vehicle_para()"
   ]
  },
  {
   "cell_type": "code",
   "execution_count": null,
   "id": "b323f0e3-6962-441d-ade4-dcb0ac5494c8",
   "metadata": {},
   "outputs": [],
   "source": [
    "## Q4. Why self is used in OOPs?\n",
    "''' \n",
    "self is a conventional name used to refer to the instance of a class within its own methods. \n",
    "It is a special parameter that allows methods to access and manipulate the attributes and methods of the instance to which they belong.\n",
    "'''"
   ]
  },
  {
   "cell_type": "code",
   "execution_count": 24,
   "id": "ca66a679-861e-4fe2-a4ad-947116c0ca64",
   "metadata": {},
   "outputs": [],
   "source": [
    "## Q5. What is inheritance? Give an example for each type of inheritance.\n",
    "'''\n",
    "Inheritance is a fundamental concept in object-oriented programming (OOP) that allows a class to inherit attributes and methods from another class. \n",
    "It enables code reuse and promotes the organization and hierarchy of classes.\n",
    "'''\n",
    "\n",
    "class A:\n",
    "    def method_a(self):\n",
    "        print(\"Method A.\")\n",
    "\n",
    "\n",
    "class B:\n",
    "    def method_b(self):\n",
    "        print(\"Method B.\")\n",
    "\n",
    "\n",
    "class C(A, B):\n",
    "    def method_c(self):\n",
    "        print(\"Method C.\") "
   ]
  },
  {
   "cell_type": "code",
   "execution_count": null,
   "id": "17eea906-ff0d-4f48-90cc-d06033b8bc21",
   "metadata": {},
   "outputs": [],
   "source": []
  }
 ],
 "metadata": {
  "kernelspec": {
   "display_name": "Python 3 (ipykernel)",
   "language": "python",
   "name": "python3"
  },
  "language_info": {
   "codemirror_mode": {
    "name": "ipython",
    "version": 3
   },
   "file_extension": ".py",
   "mimetype": "text/x-python",
   "name": "python",
   "nbconvert_exporter": "python",
   "pygments_lexer": "ipython3",
   "version": "3.10.8"
  }
 },
 "nbformat": 4,
 "nbformat_minor": 5
}
