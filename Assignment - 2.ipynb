{
 "cells": [
  {
   "cell_type": "code",
   "execution_count": 1,
   "id": "e814d07e-1004-45d6-80b1-5a14255a6086",
   "metadata": {},
   "outputs": [
    {
     "name": "stdout",
     "output_type": "stream",
     "text": [
      "Hello World\n",
      "Hello world\n"
     ]
    }
   ],
   "source": [
    "## Q1. How do you comment code in Python? What are the different types of comments?\n",
    "\n",
    "'''\n",
    "In python we can comment code through two menthods as below ::\n",
    "one is single line comment and second is multiple line comments \n",
    "'''\n",
    "\n",
    "## single line comment starts with sign '#' afterwards line python will read as code as below\n",
    "print(\"Hello World\")\n",
    "\n",
    "''' In second methode of line comments we need to use either a ‘’ or “” quotation marks three times. \n",
    "to end the multiple line comments we need to finish with either a ‘’ or “” quotation marks three times as used in this example \n",
    "'''\n",
    "print(\"Hello world\")"
   ]
  },
  {
   "cell_type": "code",
   "execution_count": 5,
   "id": "b030fa85-99b8-4116-9945-012780fca5ea",
   "metadata": {},
   "outputs": [
    {
     "data": {
      "text/plain": [
       "'Swapnil'"
      ]
     },
     "execution_count": 5,
     "metadata": {},
     "output_type": "execute_result"
    }
   ],
   "source": [
    "## Q2. What are variables in Python? How do you declare and assign values to variables?\n",
    "\"\"\" Answer :: \n",
    " Variable is a object name that is a reference to an object.\n",
    " to declare variables in python we need to use sign \"=\" \n",
    " for example :: \n",
    " \"\"\"\n",
    "var = \"Swapnil\"\n",
    "\n",
    "var\n",
    "\n",
    "# as mentioned above code \"var\" is variable for which value \"Swapnil\" assigned for it."
   ]
  },
  {
   "cell_type": "code",
   "execution_count": 39,
   "id": "72c00c1c-e8d5-41b8-96e6-58341079bec2",
   "metadata": {},
   "outputs": [
    {
     "name": "stdout",
     "output_type": "stream",
     "text": [
      "2\n"
     ]
    },
    {
     "data": {
      "text/plain": [
       "int"
      ]
     },
     "execution_count": 39,
     "metadata": {},
     "output_type": "execute_result"
    }
   ],
   "source": [
    "## Q3. How do you convert one data type to another in Python?\n",
    "\n",
    "''' as per below mentioned method we can change the data type,\n",
    "we need to assign another variable or overide the same variable to change data type \n",
    "'''\n",
    "\n",
    "var_1 = 2\n",
    "print(var_1) \n",
    "type(var_1)"
   ]
  },
  {
   "cell_type": "code",
   "execution_count": 38,
   "id": "f0ad67ea-7bc7-4855-ad79-85a66f2ff792",
   "metadata": {},
   "outputs": [
    {
     "name": "stdout",
     "output_type": "stream",
     "text": [
      "2.0\n",
      "<class 'float'>\n"
     ]
    }
   ],
   "source": [
    "var_2 = float(var_1)\n",
    "print(var_2)\n",
    "print(type(var_2))"
   ]
  },
  {
   "cell_type": "code",
   "execution_count": 2,
   "id": "3217f0d5-e200-44ed-ba81-79e6ef0a06d1",
   "metadata": {},
   "outputs": [
    {
     "name": "stdout",
     "output_type": "stream",
     "text": [
      "[2, 3]\n"
     ]
    }
   ],
   "source": [
    "## Q4) Given a list my_list = [1, 2, 3, 4, 5], write the code to slice the list and obtain the sub-list [2, 3].\n",
    "\n",
    "my_list = [1, 2, 3, 4, 5]\n",
    "my_list_2 = my_list[1:3]\n",
    "print(my_list_2)"
   ]
  },
  {
   "cell_type": "code",
   "execution_count": 5,
   "id": "fb8c9947-b427-4cec-a930-909abc20ded1",
   "metadata": {},
   "outputs": [
    {
     "data": {
      "text/plain": [
       "complex"
      ]
     },
     "execution_count": 5,
     "metadata": {},
     "output_type": "execute_result"
    }
   ],
   "source": [
    "## Q5)What is a complex number in mathematics, and how is it represented in Python?\n",
    "'''\n",
    "Complex number in maths is combination of real number and imagenary number, \n",
    "for example :: 2+5i is complex number in which 2 is real number and 5i is imagenary number \n",
    "\n",
    "In python complex number is represented by letter 'j'\n",
    "for example :: 2 + 5j is presentation of complex number in python \n",
    "other letter than 'j' in complex number is not allowed then python will consider the given number as string \n",
    "'''\n",
    "n1 = 2+5j \n",
    "type(n1)"
   ]
  },
  {
   "cell_type": "code",
   "execution_count": 8,
   "id": "536081d2-64a0-4ee7-9aef-a22989a9883e",
   "metadata": {},
   "outputs": [
    {
     "name": "stdout",
     "output_type": "stream",
     "text": [
      "25\n"
     ]
    }
   ],
   "source": [
    "## Q7. What is the correct way to declare a variable named age and assign the value 25 to it?\n",
    "\n",
    "## Correct way to declarea variable named age and assign the value 25 to it is as mentioned below\n",
    "\n",
    "age = \"25\" \n",
    "print(age)"
   ]
  },
  {
   "cell_type": "code",
   "execution_count": 10,
   "id": "c8bdb1bb-f859-42de-87ec-11284016b298",
   "metadata": {},
   "outputs": [
    {
     "data": {
      "text/plain": [
       "float"
      ]
     },
     "execution_count": 10,
     "metadata": {},
     "output_type": "execute_result"
    }
   ],
   "source": [
    "## Q8. Declare a variable named price and assign the value 9.99 to it. What data type does this variable belong to?\n",
    "\n",
    "price = 9.99\n",
    "type(price)\n",
    "\n",
    "''' as performed the operation variable named price and assigned the value 9.99 to it. afterwards we get the data type of variable as float "
   ]
  },
  {
   "cell_type": "code",
   "execution_count": 11,
   "id": "48b9f288-80aa-4e29-91a5-00bb94e84720",
   "metadata": {},
   "outputs": [
    {
     "name": "stdout",
     "output_type": "stream",
     "text": [
      "Swapnil Nityanand Sonkavde\n"
     ]
    }
   ],
   "source": [
    "## Q9. Create a variable named name and assign your full name to it as a string. How would you print the value of this variable?\n",
    "\n",
    "name = \"Swapnil Nityanand Sonkavde\"\n",
    "print(name)"
   ]
  },
  {
   "cell_type": "code",
   "execution_count": 13,
   "id": "6e80accc-b3ad-468f-8e05-88c36c22373a",
   "metadata": {},
   "outputs": [
    {
     "name": "stdout",
     "output_type": "stream",
     "text": [
      "World\n"
     ]
    }
   ],
   "source": [
    "## Q10. Given the string \"Hello, World!\", extract the substring \"World\".\n",
    "\n",
    "word = \"Hello, World!\"\n",
    "ans = word[7:12]\n",
    "print(ans)"
   ]
  },
  {
   "cell_type": "code",
   "execution_count": 17,
   "id": "e870b9c7-05de-455c-b705-74b0a6292307",
   "metadata": {},
   "outputs": [
    {
     "data": {
      "text/plain": [
       "bool"
      ]
     },
     "execution_count": 17,
     "metadata": {},
     "output_type": "execute_result"
    }
   ],
   "source": [
    "## Q11. Create a variable named \"is_student\" and assign it a boolean value indicating whether you are currently a student or not.\n",
    "\n",
    "is_student = True\n",
    "type(is_student)"
   ]
  }
 ],
 "metadata": {
  "kernelspec": {
   "display_name": "Python 3 (ipykernel)",
   "language": "python",
   "name": "python3"
  },
  "language_info": {
   "codemirror_mode": {
    "name": "ipython",
    "version": 3
   },
   "file_extension": ".py",
   "mimetype": "text/x-python",
   "name": "python",
   "nbconvert_exporter": "python",
   "pygments_lexer": "ipython3",
   "version": "3.10.8"
  }
 },
 "nbformat": 4,
 "nbformat_minor": 5
}
